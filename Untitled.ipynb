{
 "cells": [
  {
   "cell_type": "code",
   "execution_count": 131,
   "metadata": {},
   "outputs": [],
   "source": [
    "from keras.preprocessing.image import ImageDataGenerator\n",
    "from keras.callbacks import TensorBoard\n",
    "from time import time\n",
    "\n",
    "tensorboard = TensorBoard(log_dir=\"tensorboard/{}\".format(time()))"
   ]
  },
  {
   "cell_type": "code",
   "execution_count": 132,
   "metadata": {},
   "outputs": [],
   "source": [
    "from keras.models import Sequential\n",
    "from keras.layers import Conv2D, MaxPooling2D\n",
    "from keras.layers import Activation, Dropout, Flatten, Dense\n",
    "\n",
    "model = Sequential()\n",
    "model.add(Conv2D(32, kernel_size=4, activation='relu', input_shape=(50,50,3)))\n",
    "# model.add(MaxPooling2D(pool_size=(2, 2)))\n",
    "\n",
    "model.add(Conv2D(32,  kernel_size=4, activation='relu'))\n",
    "# model.add(MaxPooling2D(pool_size=(2, 2)))\n",
    "\n",
    "model.add(Conv2D(64, kernel_size=4, activation='relu'))\n",
    "# model.add(MaxPooling2D(pool_size=(2, 2)))"
   ]
  },
  {
   "cell_type": "code",
   "execution_count": 133,
   "metadata": {},
   "outputs": [],
   "source": [
    "model.add(Flatten())  # this converts our 3D feature maps to 1D feature vectors\n",
    "model.add(Dense(64))\n",
    "model.add(Activation('relu'))\n",
    "model.add(Dropout(0.5))\n",
    "model.add(Dense(6, activation='softmax'))\n",
    "model.add(Activation('sigmoid'))\n",
    "\n",
    "model.compile(loss='categorical_crossentropy',\n",
    "              optimizer='adam',\n",
    "              metrics=['accuracy'])"
   ]
  },
  {
   "cell_type": "code",
   "execution_count": 134,
   "metadata": {},
   "outputs": [
    {
     "name": "stdout",
     "output_type": "stream",
     "text": [
      "Found 1394 images belonging to 6 classes.\n",
      "Found 150 images belonging to 6 classes.\n"
     ]
    }
   ],
   "source": [
    "batch_size = 16\n",
    "\n",
    "# this is the augmentation configuration we will use for training\n",
    "train_datagen = ImageDataGenerator(\n",
    "        rescale=1./255,\n",
    "        shear_range=0.2)\n",
    "\n",
    "# this is the augmentation configuration we will use for testing:\n",
    "# only rescaling\n",
    "test_datagen = ImageDataGenerator(rescale=1./255)\n",
    "\n",
    "# this is a generator that will read pictures found in\n",
    "# subfolers of 'data/train', and indefinitely generate\n",
    "# batches of augmented image data\n",
    "train_generator = train_datagen.flow_from_directory(\n",
    "        'data/train',  # this is the target directory\n",
    "        target_size=(50, 50),  # all images will be resized to 150x150\n",
    "        batch_size=batch_size,\n",
    "        class_mode='categorical')  # since we use binary_crossentropy loss, we need binary labels\n",
    "\n",
    "# this is a similar generator, for validation data\n",
    "validation_generator = test_datagen.flow_from_directory(\n",
    "        'data/test',\n",
    "        target_size=(50, 50),\n",
    "        batch_size=batch_size,\n",
    "        class_mode='categorical')"
   ]
  },
  {
   "cell_type": "code",
   "execution_count": null,
   "metadata": {
    "scrolled": false
   },
   "outputs": [
    {
     "name": "stdout",
     "output_type": "stream",
     "text": [
      "Epoch 1/50\n",
      "100/100 [==============================] - 79s 794ms/step - loss: 1.7702 - acc: 0.2563 - val_loss: 1.6950 - val_acc: 0.4375\n",
      "Epoch 2/50\n",
      "100/100 [==============================] - 81s 810ms/step - loss: 1.6826 - acc: 0.4887 - val_loss: 1.6537 - val_acc: 0.5625\n",
      "Epoch 3/50\n",
      "100/100 [==============================] - 81s 810ms/step - loss: 1.6431 - acc: 0.5862 - val_loss: 1.5794 - val_acc: 0.7500\n",
      "Epoch 4/50\n",
      "100/100 [==============================] - 79s 790ms/step - loss: 1.6258 - acc: 0.6399 - val_loss: 1.6392 - val_acc: 0.5938\n",
      "Epoch 5/50\n",
      "100/100 [==============================] - 80s 802ms/step - loss: 1.6160 - acc: 0.6663 - val_loss: 1.6825 - val_acc: 0.5000\n",
      "Epoch 6/50\n",
      "100/100 [==============================] - 79s 794ms/step - loss: 1.6160 - acc: 0.6612 - val_loss: 1.6062 - val_acc: 0.6875\n",
      "Epoch 7/50\n",
      "100/100 [==============================] - 80s 799ms/step - loss: 1.6020 - acc: 0.7018 - val_loss: 1.5839 - val_acc: 0.7500\n",
      "Epoch 8/50\n",
      "100/100 [==============================] - 80s 796ms/step - loss: 1.5974 - acc: 0.7043 - val_loss: 1.6399 - val_acc: 0.5312\n",
      "Epoch 9/50\n",
      "100/100 [==============================] - 80s 798ms/step - loss: 1.5888 - acc: 0.7300 - val_loss: 1.6903 - val_acc: 0.4375\n",
      "Epoch 10/50\n",
      "100/100 [==============================] - 80s 800ms/step - loss: 1.5820 - acc: 0.7506 - val_loss: 1.5522 - val_acc: 0.8182\n",
      "Epoch 11/50\n",
      "100/100 [==============================] - 82s 816ms/step - loss: 1.5767 - acc: 0.7612 - val_loss: 1.6398 - val_acc: 0.5938\n",
      "Epoch 12/50\n",
      "100/100 [==============================] - 83s 829ms/step - loss: 1.5750 - acc: 0.7687 - val_loss: 1.6134 - val_acc: 0.6562\n",
      "Epoch 13/50\n",
      "100/100 [==============================] - 80s 801ms/step - loss: 1.5684 - acc: 0.7850 - val_loss: 1.6108 - val_acc: 0.6875\n",
      "Epoch 14/50\n",
      "100/100 [==============================] - 81s 807ms/step - loss: 1.5730 - acc: 0.7769 - val_loss: 1.5481 - val_acc: 0.8438\n",
      "Epoch 15/50\n",
      "100/100 [==============================] - 82s 819ms/step - loss: 1.5670 - acc: 0.7900 - val_loss: 1.5788 - val_acc: 0.7273\n",
      "Epoch 16/50\n",
      "100/100 [==============================] - 79s 792ms/step - loss: 1.5597 - acc: 0.8107 - val_loss: 1.6075 - val_acc: 0.6562\n",
      "Epoch 17/50\n",
      "100/100 [==============================] - 79s 787ms/step - loss: 1.5601 - acc: 0.8075 - val_loss: 1.5857 - val_acc: 0.7188\n",
      "Epoch 18/50\n",
      "100/100 [==============================] - 80s 798ms/step - loss: 1.5597 - acc: 0.8125 - val_loss: 1.5373 - val_acc: 0.8438\n",
      "Epoch 19/50\n",
      " 10/100 [==>...........................] - ETA: 1:11 - loss: 1.5461 - acc: 0.8562"
     ]
    }
   ],
   "source": [
    "model.fit_generator(\n",
    "        train_generator,\n",
    "        steps_per_epoch=1600 // batch_size,\n",
    "        epochs=50,\n",
    "        validation_data=validation_generator,\n",
    "        validation_steps=32 // batch_size,\n",
    "        verbose=1,\n",
    "        callbacks=[tensorboard])\n",
    "model.save_weights('first_try.h5')  # always save your weights after training or during training"
   ]
  },
  {
   "cell_type": "code",
   "execution_count": null,
   "metadata": {},
   "outputs": [],
   "source": []
  }
 ],
 "metadata": {
  "kernelspec": {
   "display_name": "Python 3",
   "language": "python",
   "name": "python3"
  },
  "language_info": {
   "codemirror_mode": {
    "name": "ipython",
    "version": 3
   },
   "file_extension": ".py",
   "mimetype": "text/x-python",
   "name": "python",
   "nbconvert_exporter": "python",
   "pygments_lexer": "ipython3",
   "version": "3.6.4"
  }
 },
 "nbformat": 4,
 "nbformat_minor": 2
}
